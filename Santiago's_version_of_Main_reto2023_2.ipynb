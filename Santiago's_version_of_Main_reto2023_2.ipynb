{
  "cells": [
    {
      "cell_type": "markdown",
      "metadata": {
        "id": "45TOQQLkrdCC"
      },
      "source": [
        "#Introduction to Deep Learning 2023-2\n",
        "## Cardiac Arrhythmia challenge"
      ]
    },
    {
      "cell_type": "markdown",
      "metadata": {
        "id": "VF2FO8Wyr2S-"
      },
      "source": [
        "Steps to run notebook:\n",
        "1. Create a copy of this folder in your drive\n",
        "2. Run the first code block\n",
        "3. Change 'data_path' to the location of the folder (open folder icon on the left, navigate to this folder, click the 3 dots on the right of the folder to copy path to the folder)\n",
        "\n",
        "\n",
        "\n",
        "\n",
        "\n"
      ]
    },
    {
      "cell_type": "code",
      "execution_count": 1,
      "metadata": {
        "id": "HE6psPfvrQSc",
        "colab": {
          "base_uri": "https://localhost:8080/"
        },
        "outputId": "eb8c2d48-83e5-4e11-d286-c2c1b1232b4d"
      },
      "outputs": [
        {
          "output_type": "stream",
          "name": "stdout",
          "text": [
            "Mounted at /content/gdrive\n"
          ]
        }
      ],
      "source": [
        "from google.colab import drive\n",
        "drive.mount('/content/gdrive')\n"
      ]
    },
    {
      "cell_type": "code",
      "source": [
        "# PATH TO THIS FOLDER IN DRIVE\n",
        "data_path = \"/content/gdrive/MyDrive/DeepLearning/Electrocardiograma_2023_2\""
      ],
      "metadata": {
        "id": "o9OYhyqEAKCG"
      },
      "execution_count": 2,
      "outputs": []
    },
    {
      "cell_type": "code",
      "execution_count": 3,
      "metadata": {
        "id": "yEdJvrGibniD",
        "colab": {
          "base_uri": "https://localhost:8080/"
        },
        "outputId": "7e104bf8-160d-4115-f7c5-f54a2dcdc97e"
      },
      "outputs": [
        {
          "output_type": "stream",
          "name": "stdout",
          "text": [
            "Collecting tensorflow-addons\n",
            "  Downloading tensorflow_addons-0.23.0-cp310-cp310-manylinux_2_17_x86_64.manylinux2014_x86_64.whl (611 kB)\n",
            "\u001b[?25l     \u001b[90m━━━━━━━━━━━━━━━━━━━━━━━━━━━━━━━━━━━━━━━━\u001b[0m \u001b[32m0.0/611.8 kB\u001b[0m \u001b[31m?\u001b[0m eta \u001b[36m-:--:--\u001b[0m\r\u001b[2K     \u001b[91m━━━━\u001b[0m\u001b[91m╸\u001b[0m\u001b[90m━━━━━━━━━━━━━━━━━━━━━━━━━━━━━━━━━━━\u001b[0m \u001b[32m71.7/611.8 kB\u001b[0m \u001b[31m1.9 MB/s\u001b[0m eta \u001b[36m0:00:01\u001b[0m\r\u001b[2K     \u001b[91m━━━━━━━━━━━━━━━━━━━━━━━━━━━━━━━━━━━━━━━\u001b[0m\u001b[91m╸\u001b[0m \u001b[32m604.2/611.8 kB\u001b[0m \u001b[31m9.0 MB/s\u001b[0m eta \u001b[36m0:00:01\u001b[0m\r\u001b[2K     \u001b[90m━━━━━━━━━━━━━━━━━━━━━━━━━━━━━━━━━━━━━━━━\u001b[0m \u001b[32m611.8/611.8 kB\u001b[0m \u001b[31m8.1 MB/s\u001b[0m eta \u001b[36m0:00:00\u001b[0m\n",
            "\u001b[?25hRequirement already satisfied: packaging in /usr/local/lib/python3.10/dist-packages (from tensorflow-addons) (23.2)\n",
            "Collecting typeguard<3.0.0,>=2.7 (from tensorflow-addons)\n",
            "  Downloading typeguard-2.13.3-py3-none-any.whl (17 kB)\n",
            "Installing collected packages: typeguard, tensorflow-addons\n",
            "Successfully installed tensorflow-addons-0.23.0 typeguard-2.13.3\n"
          ]
        }
      ],
      "source": [
        "#data libraries\n",
        "import numpy as np\n",
        "import matplotlib.pyplot as plt\n",
        "import h5py\n",
        "\n",
        "#model libraries\n",
        "!pip install tensorflow-addons\n",
        "import tensorflow as tf\n",
        "from tensorflow import keras\n",
        "from tensorflow.keras import layers\n",
        "from keras import utils                                   # tools for creating one-hot encoding\n",
        "from keras.utils import custom_object_scope\n",
        "from keras.models import Sequential                        # Type of model we wish to use\n",
        "from sklearn.metrics import confusion_matrix , precision_score, recall_score, f1_score, accuracy_score\n",
        "from sklearn.model_selection import train_test_split"
      ]
    },
    {
      "cell_type": "markdown",
      "metadata": {
        "id": "pPxR8s2axr7C"
      },
      "source": [
        "# Extracting the Training Data\n",
        "The training data is saved in the file 'training_set_500.h5', which is in [h5\n",
        "format](https://fileinfo.com/extension/h5).  This format allows to save Hierarchical Data.  In this file we have saved the 'data' and the 'labels'\n",
        "\n",
        "We extract the 'data' and the 'labels' to the variables X_train and y_train respectively and then convert these variable into numpy arrays.\n",
        "\n",
        "\n",
        "Then we create the validation set with the function `train_test_split()` from sklearn , the data and the labels are in X_val and y_val respectively. Note that this process is made when X_train and y_train are already numpy arrays.\n",
        "\n",
        "**The dataset has 3 labels :**\n",
        "\n",
        "*   0: Normal\n",
        "*   1: Arrhythmia\n",
        "*   2: Noise\n",
        "\n",
        "\n"
      ]
    },
    {
      "cell_type": "code",
      "execution_count": 10,
      "metadata": {
        "id": "5zlkR4nqrrBM"
      },
      "outputs": [],
      "source": [
        "# Traing Data - ECG signals from 500 patients\n",
        "dataset = h5py.File(data_path + '/training_set_500.h5', 'r')\n",
        "\n",
        "X_train = dataset.get('data')\n",
        "X_train = np.array(X_train)\n",
        "y_train = dataset.get('labels')\n",
        "y_train = np.array(y_train)\n",
        "dataset.close()\n",
        "\n",
        "X_train, X_val, y_train, y_val = train_test_split(X_train, y_train, test_size=0.2, random_state=42)\n",
        "\n",
        "# Healthy assertion\n",
        "\n",
        "# The training data has 116953 1D ECG signals each one with 2049 samples,\n",
        "# 93562 (80%) goes to training and 23391 (20%) for validation,\n",
        "\n",
        "assert X_train.shape == (93562, 2049, 1)\n",
        "assert X_val.shape == (23391, 2049, 1)\n",
        "\n",
        "# 93562 labels for training (0: Normal, 1: Cardiac Arrhytmia, 2: Noise signal)\n",
        "# 23391 labels for validation (0: Normal, 1: Cardiac Arrhytmia, 2: Noise signal)\n",
        "\n",
        "assert y_train.shape == (93562, 1)\n",
        "assert y_val.shape == (23391, 1)"
      ]
    },
    {
      "cell_type": "markdown",
      "source": [
        "## Converting the y_train and y_val to one-hot encoding"
      ],
      "metadata": {
        "id": "MnjW2lIwtXx2"
      }
    },
    {
      "cell_type": "code",
      "source": [
        "nclases = 3\n",
        "y_train = utils.to_categorical(y_train,nclases)\n",
        "print(\"y_train= \", y_train[0])\n",
        "\n",
        "y_val = utils.to_categorical(y_val,nclases)\n",
        "print(\"y_val = \", y_val[0])\n",
        "# Healthy assertion\n",
        "# 116953 labels ([1. 0. 0.]: Normal, [0. 1. 0.]: Cardiac Arrhytmia, [0. 0. 1.]: Noise signal)\n",
        "assert y_train.shape == (93562, 3)\n",
        "assert y_val.shape == (23391, 3)"
      ],
      "metadata": {
        "id": "lzBrrujXixAA",
        "colab": {
          "base_uri": "https://localhost:8080/"
        },
        "outputId": "6d519018-cd6a-420b-cac9-c4469c43409d"
      },
      "execution_count": 5,
      "outputs": [
        {
          "output_type": "stream",
          "name": "stdout",
          "text": [
            "y_train=  [0. 0. 1.]\n",
            "y_val =  [0. 0. 1.]\n"
          ]
        }
      ]
    },
    {
      "cell_type": "markdown",
      "source": [
        "## Sketching some ECG Signal"
      ],
      "metadata": {
        "id": "Ux5sxBwE4tfW"
      }
    },
    {
      "cell_type": "code",
      "source": [
        "\n",
        "index = 763\n",
        "\n",
        "x=np.arange(0,2048,200)\n",
        "xi = x/250 # sample rate of recording: 250Hz\n",
        "plt.xticks(x,xi)\n",
        "plt.plot(X_train[index])\n",
        "plt.title('Label of signal: %i'  % np.argmax(y_train[index]))\n",
        "plt.xlabel('seconds')\n",
        "plt.ylabel('ECG signal')\n",
        "\n",
        "plt.show()"
      ],
      "metadata": {
        "colab": {
          "base_uri": "https://localhost:8080/",
          "height": 472
        },
        "id": "nrdw_ffsqYXa",
        "outputId": "91e89630-40c2-4fb6-ef98-acee45375b0a"
      },
      "execution_count": null,
      "outputs": [
        {
          "output_type": "display_data",
          "data": {
            "text/plain": [
              "<Figure size 640x480 with 1 Axes>"
            ],
            "image/png": "[encoded data removed]"
          },
          "metadata": {}
        }
      ]
    },
    {
      "cell_type": "markdown",
      "metadata": {
        "id": "bor-DqaXXjXc"
      },
      "source": [
        "# Extracting the Test Data Given by Professor\n",
        "The test data is saved in the file '/test_without_labels_200.h5', which is also in [h5\n",
        "format](https://fileinfo.com/extension/h5).  \n",
        "We extract the 'data' to the variable X_test. **Please note that the test labels  are hidden for challenge purposes.**"
      ]
    },
    {
      "cell_type": "code",
      "execution_count": null,
      "metadata": {
        "id": "APwe3L2dwRGh"
      },
      "outputs": [],
      "source": [
        "# Testing Data - ECG signals from 200 patients\n",
        "dataset = h5py.File(data_path + '/test_without_labels_200.h5', 'r')\n",
        "\n",
        "X_test = dataset.get('data')\n",
        "X_test = np.array(X_test)\n",
        "dataset.close()\n",
        "\n",
        "# Healthy assertion\n",
        "assert X_test.shape == (46943, 2049, 1) # 46943 1D ECG signal each one with 2049 samples"
      ]
    },
    {
      "cell_type": "markdown",
      "metadata": {
        "id": "FHTCOQflx0Wp"
      },
      "source": [
        "#Models"
      ]
    },
    {
      "cell_type": "markdown",
      "source": [
        "## Model 1: The given\n",
        "\n",
        "This model were given in the course Colab, so i test it"
      ],
      "metadata": {
        "id": "UPRxa2xL35MC"
      }
    },
    {
      "cell_type": "code",
      "source": [
        "# MODEL copy + paste from Keras.io\n",
        "\n",
        "model1 = keras.Sequential(\n",
        "    [\n",
        "        layers.Dense(200, activation=\"relu\", name=\"layer1\", input_shape = (2049,)),\n",
        "        layers.Dense(50, activation=\"relu\", name=\"layer2\"),\n",
        "        layers.Dense(nclases, name=\"layer3\",activation='softmax'),\n",
        "    ]\n",
        ")\n",
        "\n",
        "model1.summary()"
      ],
      "metadata": {
        "colab": {
          "base_uri": "https://localhost:8080/"
        },
        "id": "wXQdRKYg4k_N",
        "outputId": "2e6f48ee-2953-4d05-ba65-db301a24a336"
      },
      "execution_count": null,
      "outputs": [
        {
          "output_type": "stream",
          "name": "stdout",
          "text": [
            "Model: \"sequential_1\"\n",
            "_________________________________________________________________\n",
            " Layer (type)                Output Shape              Param #   \n",
            "=================================================================\n",
            " layer1 (Dense)              (None, 200)               410000    \n",
            "                                                                 \n",
            " layer2 (Dense)              (None, 50)                10050     \n",
            "                                                                 \n",
            " layer3 (Dense)              (None, 3)                 153       \n",
            "                                                                 \n",
            "=================================================================\n",
            "Total params: 420203 (1.60 MB)\n",
            "Trainable params: 420203 (1.60 MB)\n",
            "Non-trainable params: 0 (0.00 Byte)\n",
            "_________________________________________________________________\n"
          ]
        }
      ]
    },
    {
      "cell_type": "code",
      "source": [
        "# COMPILE\n",
        "model1.compile(loss = 'categorical_crossentropy', optimizer = 'adam', metrics = ['accuracy'])"
      ],
      "metadata": {
        "id": "Lls5vwYE4Nq4"
      },
      "execution_count": null,
      "outputs": []
    },
    {
      "cell_type": "code",
      "source": [
        "#FIT\n",
        "model1.fit(X_train, y_train, epochs= 5, validation_split=0.2, batch_size=32, verbose = 1)"
      ],
      "metadata": {
        "colab": {
          "base_uri": "https://localhost:8080/"
        },
        "id": "aiI3Udwj4Zco",
        "outputId": "42a867ca-ee24-4e22-d656-bb9f3be8822b"
      },
      "execution_count": null,
      "outputs": [
        {
          "output_type": "stream",
          "name": "stdout",
          "text": [
            "Epoch 1/5\n",
            "2340/2340 [==============================] - 19s 6ms/step - loss: 0.6944 - accuracy: 0.6932 - val_loss: 0.6589 - val_accuracy: 0.7137\n",
            "Epoch 2/5\n",
            "2340/2340 [==============================] - 10s 4ms/step - loss: 0.6066 - accuracy: 0.7376 - val_loss: 0.6468 - val_accuracy: 0.7154\n",
            "Epoch 3/5\n",
            "2340/2340 [==============================] - 9s 4ms/step - loss: 0.5435 - accuracy: 0.7635 - val_loss: 0.6353 - val_accuracy: 0.7325\n",
            "Epoch 4/5\n",
            "2340/2340 [==============================] - 10s 4ms/step - loss: 0.4788 - accuracy: 0.7911 - val_loss: 0.6606 - val_accuracy: 0.7305\n",
            "Epoch 5/5\n",
            "2340/2340 [==============================] - 14s 6ms/step - loss: 0.4217 - accuracy: 0.8194 - val_loss: 0.7058 - val_accuracy: 0.7270\n"
          ]
        },
        {
          "output_type": "execute_result",
          "data": {
            "text/plain": [
              "<keras.src.callbacks.History at 0x7f61c0a0e320>"
            ]
          },
          "metadata": {},
          "execution_count": 13
        }
      ]
    },
    {
      "cell_type": "markdown",
      "source": [
        "## Model 2: The Convolutional Neural Network\n",
        "\n",
        "CNNs are the preferred architecture for classifying ECG signals due to their ability to handle temporal and spatial information, efficiently extract features, be robust to noise and artifacts, be efficiently trained and inferred, and their proven track record. These characteristics make them ideal for our ECG classification tasks.\n",
        "\n",
        "\n",
        "**The evidence supports the use of CNNs to Arrhythmia Detection**\n",
        "\n",
        "CNNs have achieved state-of-the-art performance in ECG arrhythmia detection, surpassing traditional methods in terms of accuracy, sensitivity, and specificity.\n",
        "\n",
        "Various CNN architectures, including 1D convolutional layers, residual networks, and attention mechanisms, have demonstrated successful application in arrhythmia detection tasks.\n",
        "\n",
        "**Jafar, M. A., Ahmed, A. N., & Al-Khalifa, K. S. (2023). Heartbeat Classification and Arrhythmia Detection Using a Multi-Model Deep-Learning Technique. Healthcare, 11(7), 1859.**"
      ],
      "metadata": {
        "id": "2UTkjbMr58a8"
      }
    },
    {
      "cell_type": "code",
      "execution_count": 6,
      "metadata": {
        "id": "oGOl-2tJrQTD",
        "colab": {
          "base_uri": "https://localhost:8080/"
        },
        "outputId": "8d0b0ad0-5a95-4113-ee96-6b25051054c1"
      },
      "outputs": [
        {
          "output_type": "stream",
          "name": "stdout",
          "text": [
            "Model: \"sequential\"\n",
            "_________________________________________________________________\n",
            " Layer (type)                Output Shape              Param #   \n",
            "=================================================================\n",
            " conv1d (Conv1D)             (None, 2047, 32)          128       \n",
            "                                                                 \n",
            " max_pooling1d (MaxPooling1  (None, 1023, 32)          0         \n",
            " D)                                                              \n",
            "                                                                 \n",
            " conv1d_1 (Conv1D)           (None, 1021, 64)          6208      \n",
            "                                                                 \n",
            " max_pooling1d_1 (MaxPoolin  (None, 510, 64)           0         \n",
            " g1D)                                                            \n",
            "                                                                 \n",
            " flatten (Flatten)           (None, 32640)             0         \n",
            "                                                                 \n",
            " dense (Dense)               (None, 128)               4178048   \n",
            "                                                                 \n",
            " dense_1 (Dense)             (None, 3)                 387       \n",
            "                                                                 \n",
            "=================================================================\n",
            "Total params: 4184771 (15.96 MB)\n",
            "Trainable params: 4184771 (15.96 MB)\n",
            "Non-trainable params: 0 (0.00 Byte)\n",
            "_________________________________________________________________\n"
          ]
        }
      ],
      "source": [
        "def build_cnn(input_shape):\n",
        "  \"\"\"Construir una red neuronal convolucional 1D para clasificar señales cardiacas.\"\"\"\n",
        "\n",
        "  model = tf.keras.Sequential([\n",
        "      tf.keras.layers.Input(input_shape),\n",
        "      tf.keras.layers.Conv1D(32, kernel_size=3, activation='relu'),\n",
        "      tf.keras.layers.MaxPool1D(pool_size=2),\n",
        "      tf.keras.layers.Conv1D(64, kernel_size=3, activation='relu'),\n",
        "      tf.keras.layers.MaxPool1D(pool_size=2),\n",
        "      tf.keras.layers.Flatten(),\n",
        "      tf.keras.layers.Dense(128, activation='relu'),\n",
        "      tf.keras.layers.Dense(3, activation='softmax')\n",
        "  ])\n",
        "\n",
        "  return model\n",
        "\n",
        "\n",
        "model_cnn = build_cnn((2049, 1))\n",
        "model_cnn.summary()"
      ]
    },
    {
      "cell_type": "code",
      "execution_count": 7,
      "metadata": {
        "id": "BoT1oQJ6rQTE"
      },
      "outputs": [],
      "source": [
        "# COMPILE\n",
        "model_cnn.compile(loss = 'categorical_crossentropy', optimizer = 'adam', metrics = ['accuracy'])"
      ]
    },
    {
      "cell_type": "code",
      "execution_count": 9,
      "metadata": {
        "id": "OokhpZl9rQTF",
        "colab": {
          "base_uri": "https://localhost:8080/"
        },
        "outputId": "6a644f27-44b6-481d-8505-bb9512d10e39"
      },
      "outputs": [
        {
          "output_type": "stream",
          "name": "stdout",
          "text": [
            "Epoch 1/10\n",
            "2924/2924 [==============================] - 430s 147ms/step - loss: 0.3529 - accuracy: 0.8643\n",
            "Epoch 2/10\n",
            "2924/2924 [==============================] - 431s 147ms/step - loss: 0.2736 - accuracy: 0.8930\n",
            "Epoch 3/10\n",
            "2924/2924 [==============================] - 407s 139ms/step - loss: 0.1951 - accuracy: 0.9245\n",
            "Epoch 4/10\n",
            "2924/2924 [==============================] - 404s 138ms/step - loss: 0.1231 - accuracy: 0.9539\n",
            "Epoch 5/10\n",
            "2924/2924 [==============================] - 405s 139ms/step - loss: 0.0724 - accuracy: 0.9742\n",
            "Epoch 6/10\n",
            "2924/2924 [==============================] - 433s 148ms/step - loss: 0.0430 - accuracy: 0.9852\n",
            "Epoch 7/10\n",
            "2924/2924 [==============================] - 395s 135ms/step - loss: 0.0315 - accuracy: 0.9892\n",
            "Epoch 8/10\n",
            "2924/2924 [==============================] - 396s 136ms/step - loss: 0.0245 - accuracy: 0.9920\n",
            "Epoch 9/10\n",
            "2924/2924 [==============================] - 387s 132ms/step - loss: 0.0220 - accuracy: 0.9927\n",
            "Epoch 10/10\n",
            "2924/2924 [==============================] - 401s 137ms/step - loss: 0.0188 - accuracy: 0.9943\n"
          ]
        },
        {
          "output_type": "execute_result",
          "data": {
            "text/plain": [
              "<keras.src.callbacks.History at 0x7d17140e58a0>"
            ]
          },
          "metadata": {},
          "execution_count": 9
        }
      ],
      "source": [
        "# FIT\n",
        "model_cnn.fit(X_train, y_train, epochs=10, batch_size=32, verbose = 1)"
      ]
    },
    {
      "cell_type": "markdown",
      "source": [
        "## Model 3: CNN with normalized data\n",
        "\n",
        "\n",
        "In the last CNN a slight Overfitting was found ,to avoid that  we normalize the ECG data with Min-Max scaler because\n",
        "1. Reduces feature variance: Min-Max scaling rescales all features to\n",
        "a common range, typically between 0 and 1. This reduces the variance of features with large magnitudes, preventing them from dominating the model training process. This is particularly useful for ECG data, where certain leads might have significantly higher amplitudes compared to others. By scaling them down, the model learns to focus on the relative relationships between features instead of absolute values, leading to a more robust and generalizable model.\n",
        "\n",
        "2. Improves gradient descent convergence: Min-Max scaling ensures that all features have similar ranges, which improves the efficiency of gradient descent optimization algorithms. These algorithms update the model parameters based on the gradient of the loss function. When features have drastically different magnitudes, the gradients can become unstable and prone to large fluctuations, making it difficult for the optimizer to converge to a good solution. Min-Max scaling avoids these issues by making the optimization process smoother and more efficient, leading to better model performance.\n",
        "\n",
        "3. Reduces sensitivity to outliers: Outliers in ECG data can significantly impact the training process and lead to overfitting. Min-Max scaling compresses the data range, reducing the impact of outliers and making the model less sensitive to their presence. This is particularly beneficial for small datasets, where outliers can have a disproportionate influence on the model's learning process.\n",
        "\n"
      ],
      "metadata": {
        "id": "8yRxx_0hOJfX"
      }
    },
    {
      "cell_type": "markdown",
      "source": [
        "**Data Normalization**"
      ],
      "metadata": {
        "id": "qv9DWN0VUg93"
      }
    },
    {
      "cell_type": "code",
      "source": [
        "from sklearn.preprocessing import MinMaxScaler\n",
        "\n",
        "def normalize_data(data):\n",
        "  # Calculate mean and standard deviation across all samples\n",
        "  mean = np.mean(data, axis=0)\n",
        "  std = np.std(data, axis=0)\n",
        "\n",
        "  # Normalize the data using z-score\n",
        "  normalized_data = (data - mean) / std\n",
        "\n",
        "  return normalized_data\n",
        "\n",
        "X_train_normalized = normalize_data(X_train)\n",
        "#Healty assert\n",
        "assert X_train.shape == X_train_normalized.shape"
      ],
      "metadata": {
        "id": "RYzQZYX6PH2F"
      },
      "execution_count": null,
      "outputs": []
    },
    {
      "cell_type": "code",
      "source": [
        "\n",
        "index = 763\n",
        "\n",
        "x=np.arange(0,2048,200)\n",
        "xi = x/250 # sample rate of recording: 250Hz\n",
        "plt.xticks(x,xi)\n",
        "plt.plot(X_train[index])\n",
        "plt.title('Before '  % np.argmax(y_train[index]))\n",
        "plt.xlabel('seconds')\n",
        "plt.ylabel('ECG signal')\n",
        "\n",
        "plt.show()\n",
        "\n",
        "x=np.arange(0,2048,200)\n",
        "xi = x/250 # sample rate of recording: 250Hz\n",
        "plt.xticks(x,xi)\n",
        "plt.plot(X_train_normalized[index])\n",
        "plt.title('After '  % np.argmax(y_train[index]))\n",
        "plt.xlabel('seconds')\n",
        "plt.ylabel('ECG signal')\n",
        "\n",
        "plt.show()"
      ],
      "metadata": {
        "colab": {
          "base_uri": "https://localhost:8080/",
          "height": 927
        },
        "id": "vG-DvQUngxmO",
        "outputId": "95bd50bc-6f45-4b7d-c97c-0ce95a608f8a"
      },
      "execution_count": null,
      "outputs": [
        {
          "output_type": "display_data",
          "data": {
            "text/plain": [
              "<Figure size 640x480 with 1 Axes>"
            ],
            "image/png": "[encoded data removed]"
          },
          "metadata": {}
        },
        {
          "output_type": "display_data",
          "data": {
            "text/plain": [
              "<Figure size 640x480 with 1 Axes>"
            ],
            "image/png": "[encoded data removed]"
          },
          "metadata": {}
        }
      ]
    },
    {
      "cell_type": "code",
      "source": [
        "model_cnn_normalized = build_cnn((2049, 1))\n",
        "model_cnn_normalized.summary()"
      ],
      "metadata": {
        "colab": {
          "base_uri": "https://localhost:8080/"
        },
        "id": "BtSW6H5AUxv1",
        "outputId": "05e3a3a1-48d0-4b6a-cecd-d9dda1795847"
      },
      "execution_count": null,
      "outputs": [
        {
          "output_type": "stream",
          "name": "stdout",
          "text": [
            "Model: \"sequential_8\"\n",
            "_________________________________________________________________\n",
            " Layer (type)                Output Shape              Param #   \n",
            "=================================================================\n",
            " conv1d_12 (Conv1D)          (None, 2047, 32)          128       \n",
            "                                                                 \n",
            " max_pooling1d_12 (MaxPooli  (None, 1023, 32)          0         \n",
            " ng1D)                                                           \n",
            "                                                                 \n",
            " conv1d_13 (Conv1D)          (None, 1021, 64)          6208      \n",
            "                                                                 \n",
            " max_pooling1d_13 (MaxPooli  (None, 510, 64)           0         \n",
            " ng1D)                                                           \n",
            "                                                                 \n",
            " flatten_6 (Flatten)         (None, 32640)             0         \n",
            "                                                                 \n",
            " dense_12 (Dense)            (None, 128)               4178048   \n",
            "                                                                 \n",
            " dense_13 (Dense)            (None, 3)                 387       \n",
            "                                                                 \n",
            "=================================================================\n",
            "Total params: 4184771 (15.96 MB)\n",
            "Trainable params: 4184771 (15.96 MB)\n",
            "Non-trainable params: 0 (0.00 Byte)\n",
            "_________________________________________________________________\n"
          ]
        }
      ]
    },
    {
      "cell_type": "code",
      "source": [
        "# Compile the model\n",
        "model_cnn_normalized.compile(\n",
        "    loss=\"categorical_crossentropy\", optimizer=tf.keras.optimizers.Adam(learning_rate=0.001), metrics=[\"accuracy\"]\n",
        ")"
      ],
      "metadata": {
        "id": "TRC193zpWtKv"
      },
      "execution_count": null,
      "outputs": []
    },
    {
      "cell_type": "code",
      "source": [
        "#Fit the model\n",
        "model_cnn_normalized.fit( X_train_normalized, y_train, epochs=10, batch_size=32, verbose=1)"
      ],
      "metadata": {
        "colab": {
          "base_uri": "https://localhost:8080/"
        },
        "id": "TrsRaA7gXI6g",
        "outputId": "37aa3cd4-b663-429e-8b74-2f063d5b6f5f"
      },
      "execution_count": null,
      "outputs": [
        {
          "output_type": "stream",
          "name": "stdout",
          "text": [
            "Epoch 1/10\n",
            "2924/2924 [==============================] - 22s 7ms/step - loss: 0.4373 - accuracy: 0.8336\n",
            "Epoch 2/10\n",
            "2924/2924 [==============================] - 20s 7ms/step - loss: 0.3222 - accuracy: 0.8736\n",
            "Epoch 3/10\n",
            "2924/2924 [==============================] - 20s 7ms/step - loss: 0.2494 - accuracy: 0.9036\n",
            "Epoch 4/10\n",
            "2924/2924 [==============================] - 20s 7ms/step - loss: 0.1710 - accuracy: 0.9352\n",
            "Epoch 5/10\n",
            "2924/2924 [==============================] - 20s 7ms/step - loss: 0.1030 - accuracy: 0.9621\n",
            "Epoch 6/10\n",
            "2924/2924 [==============================] - 20s 7ms/step - loss: 0.0573 - accuracy: 0.9800\n",
            "Epoch 7/10\n",
            "2924/2924 [==============================] - 20s 7ms/step - loss: 0.0379 - accuracy: 0.9873\n",
            "Epoch 8/10\n",
            "2924/2924 [==============================] - 20s 7ms/step - loss: 0.0297 - accuracy: 0.9904\n",
            "Epoch 9/10\n",
            "2924/2924 [==============================] - 20s 7ms/step - loss: 0.0232 - accuracy: 0.9927\n",
            "Epoch 10/10\n",
            "2924/2924 [==============================] - 20s 7ms/step - loss: 0.0221 - accuracy: 0.9929\n"
          ]
        },
        {
          "output_type": "execute_result",
          "data": {
            "text/plain": [
              "<keras.src.callbacks.History at 0x7f61876dc700>"
            ]
          },
          "metadata": {},
          "execution_count": 95
        }
      ]
    },
    {
      "cell_type": "markdown",
      "source": [
        "## Model 4: With Regularizers\n",
        "\n"
      ],
      "metadata": {
        "id": "Vk_U5_EvaBmR"
      }
    },
    {
      "cell_type": "code",
      "source": [
        "def build_cnn_optimized(input_shape):\n",
        "  # Define the CNN model with regularization techniques\n",
        "  model_cnn_optimized = Sequential([\n",
        "      tf.keras.layers.Input(shape=input_shape),\n",
        "      tf.keras.layers.Conv1D(32, kernel_size=3, activation=\"relu\", kernel_regularizer=\"l2\"),\n",
        "      tf.keras.layers.MaxPooling1D(pool_size=2),\n",
        "      tf.keras.layers.Conv1D(64, kernel_size=3, activation=\"relu\", kernel_regularizer=\"l2\"),\n",
        "      tf.keras.layers.MaxPooling1D(pool_size=2),\n",
        "      tf.keras.layers.Dropout(0.2),\n",
        "      tf.keras.layers.Flatten(),\n",
        "      tf.keras.layers.Dense(128, activation=\"relu\", kernel_regularizer=\"l2\"),\n",
        "      tf.keras.layers.Dropout(0.2),  # Add a Dropout layer before the output layer\n",
        "      tf.keras.layers.Dense(3, activation=\"softmax\")\n",
        "  ])\n",
        "  return model_cnn_optimized\n",
        "model_cnn_optimized = build_cnn_optimized((2049, 1))\n",
        "model_cnn_optimized.summary()"
      ],
      "metadata": {
        "colab": {
          "base_uri": "https://localhost:8080/"
        },
        "id": "MoUto7sHaBKT",
        "outputId": "64d32e5f-b323-48c2-ab38-988e64e03dba"
      },
      "execution_count": null,
      "outputs": [
        {
          "output_type": "stream",
          "name": "stdout",
          "text": [
            "Model: \"sequential_4\"\n",
            "_________________________________________________________________\n",
            " Layer (type)                Output Shape              Param #   \n",
            "=================================================================\n",
            " conv1d_4 (Conv1D)           (None, 2047, 32)          128       \n",
            "                                                                 \n",
            " max_pooling1d_4 (MaxPoolin  (None, 1023, 32)          0         \n",
            " g1D)                                                            \n",
            "                                                                 \n",
            " conv1d_5 (Conv1D)           (None, 1021, 64)          6208      \n",
            "                                                                 \n",
            " max_pooling1d_5 (MaxPoolin  (None, 510, 64)           0         \n",
            " g1D)                                                            \n",
            "                                                                 \n",
            " dropout (Dropout)           (None, 510, 64)           0         \n",
            "                                                                 \n",
            " flatten_2 (Flatten)         (None, 32640)             0         \n",
            "                                                                 \n",
            " dense_4 (Dense)             (None, 128)               4178048   \n",
            "                                                                 \n",
            " dropout_1 (Dropout)         (None, 128)               0         \n",
            "                                                                 \n",
            " dense_5 (Dense)             (None, 3)                 387       \n",
            "                                                                 \n",
            "=================================================================\n",
            "Total params: 4184771 (15.96 MB)\n",
            "Trainable params: 4184771 (15.96 MB)\n",
            "Non-trainable params: 0 (0.00 Byte)\n",
            "_________________________________________________________________\n"
          ]
        }
      ]
    },
    {
      "cell_type": "code",
      "source": [
        "# Compile the model\n",
        "model_cnn_optimized.compile(\n",
        "    loss=\"categorical_crossentropy\", optimizer=tf.keras.optimizers.Adam(learning_rate=0.001), metrics=[\"accuracy\"]\n",
        ")"
      ],
      "metadata": {
        "id": "Nuw7zJZjaoL9"
      },
      "execution_count": null,
      "outputs": []
    },
    {
      "cell_type": "code",
      "source": [
        "#Fit the model\n",
        "model_cnn_optimized.fit( X_train, y_train, epochs=10, batch_size=32, verbose=1)"
      ],
      "metadata": {
        "colab": {
          "base_uri": "https://localhost:8080/"
        },
        "id": "hzmRv5a9amJS",
        "outputId": "2ba5d236-b7dc-4a9e-9b7b-588fafc81abe"
      },
      "execution_count": null,
      "outputs": [
        {
          "output_type": "stream",
          "name": "stdout",
          "text": [
            "Epoch 1/10\n",
            "2924/2924 [==============================] - 24s 7ms/step - loss: 0.7603 - accuracy: 0.7681\n",
            "Epoch 2/10\n",
            "2924/2924 [==============================] - 22s 8ms/step - loss: 0.6691 - accuracy: 0.7945\n",
            "Epoch 3/10\n",
            "2924/2924 [==============================] - 27s 9ms/step - loss: 0.6354 - accuracy: 0.8060\n",
            "Epoch 4/10\n",
            "2924/2924 [==============================] - 29s 10ms/step - loss: 0.6191 - accuracy: 0.8094\n",
            "Epoch 5/10\n",
            "2924/2924 [==============================] - 27s 9ms/step - loss: 0.6069 - accuracy: 0.8115\n",
            "Epoch 6/10\n",
            "2924/2924 [==============================] - 22s 7ms/step - loss: 0.5988 - accuracy: 0.8141\n",
            "Epoch 7/10\n",
            "2924/2924 [==============================] - 22s 8ms/step - loss: 0.5945 - accuracy: 0.8165\n",
            "Epoch 8/10\n",
            "2924/2924 [==============================] - 21s 7ms/step - loss: 0.5892 - accuracy: 0.8183\n",
            "Epoch 9/10\n",
            "2924/2924 [==============================] - 21s 7ms/step - loss: 0.5845 - accuracy: 0.8215\n",
            "Epoch 10/10\n",
            "2924/2924 [==============================] - 22s 8ms/step - loss: 0.5815 - accuracy: 0.8222\n"
          ]
        },
        {
          "output_type": "execute_result",
          "data": {
            "text/plain": [
              "<keras.src.callbacks.History at 0x7f617f7d1090>"
            ]
          },
          "metadata": {},
          "execution_count": 66
        }
      ]
    },
    {
      "cell_type": "markdown",
      "source": [
        "## Model 5: More Complex CNN\n",
        "\n",
        "After Regularization the problem of overfitting is resolved, however the model is uncapable of generalize features and have an accuracy over 90%, the strategy will be improve the model to have more extraction and add 5% more to training data.\n",
        "\n",
        "The normalization of data in the same model, performs worst, in this case the original data will be not normalized.\n",
        "\n"
      ],
      "metadata": {
        "id": "HoDimQelfMd5"
      }
    },
    {
      "cell_type": "code",
      "source": [
        "def build_cnn_deeper(input_shape):\n",
        "\n",
        "  model = tf.keras.Sequential([\n",
        "      tf.keras.layers.Input(input_shape),\n",
        "      tf.keras.layers.Conv1D(32, kernel_size=3, activation='relu'),\n",
        "      tf.keras.layers.BatchNormalization(),\n",
        "      tf.keras.layers.MaxPool1D(pool_size=2),\n",
        "      tf.keras.layers.Conv1D(64, kernel_size=3, activation='relu'),\n",
        "      tf.keras.layers.BatchNormalization(),\n",
        "      tf.keras.layers.MaxPool1D(pool_size=2),\n",
        "      tf.keras.layers.Conv1D(128, kernel_size=3, activation='relu'),\n",
        "      tf.keras.layers.BatchNormalization(),\n",
        "      tf.keras.layers.MaxPool1D(pool_size=2),\n",
        "      tf.keras.layers.Flatten(),\n",
        "      tf.keras.layers.Dense(256, activation='relu'),\n",
        "      tf.keras.layers.Dropout(0.5),\n",
        "      tf.keras.layers.Dense(128, activation='relu'),\n",
        "      tf.keras.layers.Dropout(0.5),\n",
        "      tf.keras.layers.Dense(3, activation='softmax')\n",
        "  ])\n",
        "  return model\n",
        "model_cnn_deeper = build_cnn_deeper((2049, 1))\n",
        "model_cnn_deeper.summary()"
      ],
      "metadata": {
        "colab": {
          "base_uri": "https://localhost:8080/"
        },
        "id": "6_vW_F3-JL3g",
        "outputId": "fc6a2fbc-441b-48b0-cdc3-42ebb16818a0"
      },
      "execution_count": null,
      "outputs": [
        {
          "output_type": "stream",
          "name": "stdout",
          "text": [
            "Model: \"sequential\"\n",
            "_________________________________________________________________\n",
            " Layer (type)                Output Shape              Param #   \n",
            "=================================================================\n",
            " conv1d (Conv1D)             (None, 2047, 32)          128       \n",
            "                                                                 \n",
            " batch_normalization (Batch  (None, 2047, 32)          128       \n",
            " Normalization)                                                  \n",
            "                                                                 \n",
            " max_pooling1d (MaxPooling1  (None, 1023, 32)          0         \n",
            " D)                                                              \n",
            "                                                                 \n",
            " conv1d_1 (Conv1D)           (None, 1021, 64)          6208      \n",
            "                                                                 \n",
            " batch_normalization_1 (Bat  (None, 1021, 64)          256       \n",
            " chNormalization)                                                \n",
            "                                                                 \n",
            " max_pooling1d_1 (MaxPoolin  (None, 510, 64)           0         \n",
            " g1D)                                                            \n",
            "                                                                 \n",
            " conv1d_2 (Conv1D)           (None, 508, 128)          24704     \n",
            "                                                                 \n",
            " batch_normalization_2 (Bat  (None, 508, 128)          512       \n",
            " chNormalization)                                                \n",
            "                                                                 \n",
            " max_pooling1d_2 (MaxPoolin  (None, 254, 128)          0         \n",
            " g1D)                                                            \n",
            "                                                                 \n",
            " flatten (Flatten)           (None, 32512)             0         \n",
            "                                                                 \n",
            " dense (Dense)               (None, 256)               8323328   \n",
            "                                                                 \n",
            " dropout (Dropout)           (None, 256)               0         \n",
            "                                                                 \n",
            " dense_1 (Dense)             (None, 128)               32896     \n",
            "                                                                 \n",
            " dropout_1 (Dropout)         (None, 128)               0         \n",
            "                                                                 \n",
            " dense_2 (Dense)             (None, 3)                 387       \n",
            "                                                                 \n",
            "=================================================================\n",
            "Total params: 8388547 (32.00 MB)\n",
            "Trainable params: 8388099 (32.00 MB)\n",
            "Non-trainable params: 448 (1.75 KB)\n",
            "_________________________________________________________________\n"
          ]
        }
      ]
    },
    {
      "cell_type": "code",
      "source": [
        "model_cnn_deeper.compile(\n",
        "        loss=\"categorical_crossentropy\", optimizer=\"adam\", metrics=[\"accuracy\"]\n",
        "    )"
      ],
      "metadata": {
        "id": "5cY_OQ0tpt5n"
      },
      "execution_count": null,
      "outputs": []
    },
    {
      "cell_type": "code",
      "source": [
        "# Early stopping to prevent overfitting\n",
        "epochs = 100\n",
        "batch_size = 32\n",
        "\n",
        "callbacks = [\n",
        "    tf.keras.callbacks.ModelCheckpoint(\n",
        "        \"best_model.h5\", save_best_only=True, monitor=\"val_loss\"\n",
        "    ),\n",
        "    tf.keras.callbacks.ReduceLROnPlateau(\n",
        "        monitor=\"val_loss\", factor=0.5, patience=20, min_lr=0.0001\n",
        "    ),\n",
        "    tf.keras.callbacks.EarlyStopping(monitor=\"val_loss\", patience=50, verbose=1),\n",
        "]\n",
        "\n",
        "# Model training\n",
        "history = model_cnn_deeper.fit(\n",
        "    X_train,\n",
        "    y_train,\n",
        "    epochs=epochs,\n",
        "    batch_size=32,\n",
        "    validation_split=0.1,\n",
        "    callbacks=callbacks,\n",
        "    verbose=1,\n",
        ")"
      ],
      "metadata": {
        "colab": {
          "base_uri": "https://localhost:8080/"
        },
        "id": "GTYvcf3otap4",
        "outputId": "4cda1070-8c85-496a-d50d-2919f924767b"
      },
      "execution_count": null,
      "outputs": [
        {
          "output_type": "stream",
          "name": "stdout",
          "text": [
            "Epoch 1/100\n",
            "2632/2632 [==============================] - ETA: 0s - loss: 0.2105 - accuracy: 0.9227"
          ]
        },
        {
          "output_type": "stream",
          "name": "stderr",
          "text": [
            "/usr/local/lib/python3.10/dist-packages/keras/src/engine/training.py:3079: UserWarning: You are saving your model as an HDF5 file via `model.save()`. This file format is considered legacy. We recommend using instead the native Keras format, e.g. `model.save('my_model.keras')`.\n",
            "  saving_api.save_model(\n"
          ]
        },
        {
          "output_type": "stream",
          "name": "stdout",
          "text": [
            "\b\b\b\b\b\b\b\b\b\b\b\b\b\b\b\b\b\b\b\b\b\b\b\b\b\b\b\b\b\b\b\b\b\b\b\b\b\b\b\b\b\b\b\b\b\b\b\b\b\b\b\b\b\b\b\b\b\b\b\b\b\b\b\b\b\b\b\b\b\b\b\b\b\b\b\b\b\b\b\b\b\b\b\b\b\b\r2632/2632 [==============================] - 41s 16ms/step - loss: 0.2105 - accuracy: 0.9227 - val_loss: 0.1689 - val_accuracy: 0.9490 - lr: 0.0010\n",
            "Epoch 2/100\n",
            "2632/2632 [==============================] - 41s 16ms/step - loss: 0.1912 - accuracy: 0.9299 - val_loss: 0.2435 - val_accuracy: 0.9037 - lr: 0.0010\n",
            "Epoch 3/100\n",
            "2632/2632 [==============================] - 41s 16ms/step - loss: 0.1732 - accuracy: 0.9374 - val_loss: 0.1788 - val_accuracy: 0.9367 - lr: 0.0010\n",
            "Epoch 4/100\n",
            "2632/2632 [==============================] - 41s 16ms/step - loss: 0.1643 - accuracy: 0.9412 - val_loss: 0.1785 - val_accuracy: 0.9345 - lr: 0.0010\n",
            "Epoch 5/100\n",
            "2632/2632 [==============================] - 41s 16ms/step - loss: 0.1480 - accuracy: 0.9474 - val_loss: 0.2950 - val_accuracy: 0.8855 - lr: 0.0010\n",
            "Epoch 6/100\n",
            "2632/2632 [==============================] - 41s 15ms/step - loss: 0.1436 - accuracy: 0.9496 - val_loss: 0.2128 - val_accuracy: 0.9358 - lr: 0.0010\n",
            "Epoch 7/100\n",
            "2632/2632 [==============================] - 40s 15ms/step - loss: 0.1317 - accuracy: 0.9534 - val_loss: 0.2264 - val_accuracy: 0.9207 - lr: 0.0010\n",
            "Epoch 8/100\n",
            "2632/2632 [==============================] - 40s 15ms/step - loss: 0.1293 - accuracy: 0.9548 - val_loss: 0.5369 - val_accuracy: 0.8216 - lr: 0.0010\n",
            "Epoch 9/100\n",
            "2632/2632 [==============================] - 39s 15ms/step - loss: 0.1222 - accuracy: 0.9567 - val_loss: 0.2256 - val_accuracy: 0.9282 - lr: 0.0010\n",
            "Epoch 10/100\n",
            "2632/2632 [==============================] - 40s 15ms/step - loss: 0.1190 - accuracy: 0.9587 - val_loss: 0.2740 - val_accuracy: 0.9179 - lr: 0.0010\n",
            "Epoch 11/100\n",
            "2632/2632 [==============================] - 41s 15ms/step - loss: 0.1151 - accuracy: 0.9590 - val_loss: 0.2375 - val_accuracy: 0.9234 - lr: 0.0010\n",
            "Epoch 12/100\n",
            "2632/2632 [==============================] - 39s 15ms/step - loss: 0.1107 - accuracy: 0.9610 - val_loss: 0.2756 - val_accuracy: 0.9181 - lr: 0.0010\n",
            "Epoch 13/100\n",
            "2632/2632 [==============================] - 39s 15ms/step - loss: 0.1107 - accuracy: 0.9618 - val_loss: 2.1243 - val_accuracy: 0.6850 - lr: 0.0010\n",
            "Epoch 14/100\n",
            "2632/2632 [==============================] - 39s 15ms/step - loss: 0.1031 - accuracy: 0.9647 - val_loss: 0.2862 - val_accuracy: 0.9063 - lr: 0.0010\n",
            "Epoch 15/100\n",
            "2632/2632 [==============================] - 39s 15ms/step - loss: 0.1032 - accuracy: 0.9643 - val_loss: 0.3641 - val_accuracy: 0.8942 - lr: 0.0010\n",
            "Epoch 16/100\n",
            "2632/2632 [==============================] - 40s 15ms/step - loss: 0.0999 - accuracy: 0.9657 - val_loss: 0.3056 - val_accuracy: 0.9136 - lr: 0.0010\n",
            "Epoch 17/100\n",
            "2632/2632 [==============================] - 39s 15ms/step - loss: 0.1060 - accuracy: 0.9634 - val_loss: 0.2555 - val_accuracy: 0.9067 - lr: 0.0010\n",
            "Epoch 18/100\n",
            "2632/2632 [==============================] - 40s 15ms/step - loss: 0.1030 - accuracy: 0.9643 - val_loss: 0.3016 - val_accuracy: 0.9167 - lr: 0.0010\n",
            "Epoch 19/100\n",
            "2632/2632 [==============================] - 39s 15ms/step - loss: 0.0945 - accuracy: 0.9672 - val_loss: 0.4051 - val_accuracy: 0.9150 - lr: 0.0010\n",
            "Epoch 20/100\n",
            "2632/2632 [==============================] - 40s 15ms/step - loss: 0.0969 - accuracy: 0.9667 - val_loss: 0.3574 - val_accuracy: 0.9132 - lr: 0.0010\n",
            "Epoch 21/100\n",
            "2632/2632 [==============================] - 40s 15ms/step - loss: 0.0961 - accuracy: 0.9684 - val_loss: 0.3676 - val_accuracy: 0.8457 - lr: 0.0010\n",
            "Epoch 22/100\n",
            "2632/2632 [==============================] - 39s 15ms/step - loss: 0.0735 - accuracy: 0.9743 - val_loss: 0.2620 - val_accuracy: 0.9124 - lr: 5.0000e-04\n",
            "Epoch 23/100\n",
            "2632/2632 [==============================] - 40s 15ms/step - loss: 0.0642 - accuracy: 0.9783 - val_loss: 0.3517 - val_accuracy: 0.9150 - lr: 5.0000e-04\n",
            "Epoch 24/100\n",
            "2632/2632 [==============================] - 39s 15ms/step - loss: 0.0617 - accuracy: 0.9788 - val_loss: 0.3038 - val_accuracy: 0.9142 - lr: 5.0000e-04\n",
            "Epoch 25/100\n",
            "2632/2632 [==============================] - 40s 15ms/step - loss: 0.0609 - accuracy: 0.9794 - val_loss: 0.3235 - val_accuracy: 0.9110 - lr: 5.0000e-04\n",
            "Epoch 26/100\n",
            "2632/2632 [==============================] - 40s 15ms/step - loss: 0.0616 - accuracy: 0.9791 - val_loss: 0.3748 - val_accuracy: 0.9163 - lr: 5.0000e-04\n",
            "Epoch 27/100\n",
            "2632/2632 [==============================] - 39s 15ms/step - loss: 0.0593 - accuracy: 0.9796 - val_loss: 0.5002 - val_accuracy: 0.9192 - lr: 5.0000e-04\n",
            "Epoch 28/100\n",
            "2632/2632 [==============================] - 39s 15ms/step - loss: 0.0562 - accuracy: 0.9813 - val_loss: 0.3457 - val_accuracy: 0.9115 - lr: 5.0000e-04\n",
            "Epoch 29/100\n",
            "2632/2632 [==============================] - 39s 15ms/step - loss: 0.0562 - accuracy: 0.9812 - val_loss: 0.3293 - val_accuracy: 0.9176 - lr: 5.0000e-04\n",
            "Epoch 30/100\n",
            "2632/2632 [==============================] - 39s 15ms/step - loss: 0.0518 - accuracy: 0.9827 - val_loss: 0.3726 - val_accuracy: 0.9196 - lr: 5.0000e-04\n",
            "Epoch 31/100\n",
            "2632/2632 [==============================] - 39s 15ms/step - loss: 0.0545 - accuracy: 0.9821 - val_loss: 0.3522 - val_accuracy: 0.9213 - lr: 5.0000e-04\n",
            "Epoch 32/100\n",
            "2632/2632 [==============================] - 39s 15ms/step - loss: 0.0563 - accuracy: 0.9817 - val_loss: 0.3571 - val_accuracy: 0.9141 - lr: 5.0000e-04\n",
            "Epoch 33/100\n",
            "2632/2632 [==============================] - 39s 15ms/step - loss: 0.0506 - accuracy: 0.9828 - val_loss: 0.3867 - val_accuracy: 0.9181 - lr: 5.0000e-04\n",
            "Epoch 34/100\n",
            "2632/2632 [==============================] - 41s 15ms/step - loss: 0.0535 - accuracy: 0.9825 - val_loss: 0.5257 - val_accuracy: 0.9175 - lr: 5.0000e-04\n",
            "Epoch 35/100\n",
            "2632/2632 [==============================] - 40s 15ms/step - loss: 0.0527 - accuracy: 0.9823 - val_loss: 0.5058 - val_accuracy: 0.9126 - lr: 5.0000e-04\n",
            "Epoch 36/100\n",
            "2632/2632 [==============================] - 41s 16ms/step - loss: 0.0537 - accuracy: 0.9826 - val_loss: 0.3578 - val_accuracy: 0.9157 - lr: 5.0000e-04\n",
            "Epoch 37/100\n",
            "2632/2632 [==============================] - 39s 15ms/step - loss: 0.0492 - accuracy: 0.9835 - val_loss: 0.4798 - val_accuracy: 0.9148 - lr: 5.0000e-04\n",
            "Epoch 38/100\n",
            "2632/2632 [==============================] - 41s 16ms/step - loss: 0.0506 - accuracy: 0.9833 - val_loss: 0.4408 - val_accuracy: 0.9176 - lr: 5.0000e-04\n",
            "Epoch 39/100\n",
            "2632/2632 [==============================] - 39s 15ms/step - loss: 0.0489 - accuracy: 0.9839 - val_loss: 0.4906 - val_accuracy: 0.9175 - lr: 5.0000e-04\n",
            "Epoch 40/100\n",
            "2632/2632 [==============================] - 40s 15ms/step - loss: 0.0521 - accuracy: 0.9829 - val_loss: 0.6591 - val_accuracy: 0.8949 - lr: 5.0000e-04\n",
            "Epoch 41/100\n",
            "2632/2632 [==============================] - 39s 15ms/step - loss: 0.0502 - accuracy: 0.9833 - val_loss: 0.6482 - val_accuracy: 0.9171 - lr: 5.0000e-04\n",
            "Epoch 42/100\n",
            "2632/2632 [==============================] - 41s 15ms/step - loss: 0.0417 - accuracy: 0.9862 - val_loss: 0.4520 - val_accuracy: 0.9171 - lr: 2.5000e-04\n",
            "Epoch 43/100\n",
            "2632/2632 [==============================] - 41s 15ms/step - loss: 0.0400 - accuracy: 0.9861 - val_loss: 0.5136 - val_accuracy: 0.9167 - lr: 2.5000e-04\n",
            "Epoch 44/100\n",
            "2632/2632 [==============================] - 41s 15ms/step - loss: 0.0373 - accuracy: 0.9877 - val_loss: 0.4844 - val_accuracy: 0.9182 - lr: 2.5000e-04\n",
            "Epoch 45/100\n",
            "2632/2632 [==============================] - 39s 15ms/step - loss: 0.0364 - accuracy: 0.9883 - val_loss: 0.4242 - val_accuracy: 0.9159 - lr: 2.5000e-04\n",
            "Epoch 46/100\n",
            "2632/2632 [==============================] - 41s 15ms/step - loss: 0.0386 - accuracy: 0.9878 - val_loss: 0.5415 - val_accuracy: 0.9136 - lr: 2.5000e-04\n",
            "Epoch 47/100\n",
            "2632/2632 [==============================] - 39s 15ms/step - loss: 0.0363 - accuracy: 0.9882 - val_loss: 0.4983 - val_accuracy: 0.9170 - lr: 2.5000e-04\n",
            "Epoch 48/100\n",
            "2632/2632 [==============================] - 40s 15ms/step - loss: 0.0352 - accuracy: 0.9882 - val_loss: 0.4424 - val_accuracy: 0.9160 - lr: 2.5000e-04\n",
            "Epoch 49/100\n",
            " 156/2632 [>.............................] - ETA: 37s - loss: 0.0390 - accuracy: 0.9868"
          ]
        }
      ]
    },
    {
      "cell_type": "markdown",
      "source": [
        "# Evaluate the models on the X_validation sample\n",
        "\n"
      ],
      "metadata": {
        "id": "JgstWxEb5ztB"
      }
    },
    {
      "cell_type": "code",
      "source": [
        "y_val = np.argmax(y_val, axis=1)\n",
        "y_val"
      ],
      "metadata": {
        "colab": {
          "base_uri": "https://localhost:8080/"
        },
        "id": "6K0KfaIi9Yye",
        "outputId": "6c0be79d-84cd-4384-8b81-4a310a9b5603"
      },
      "execution_count": null,
      "outputs": [
        {
          "output_type": "execute_result",
          "data": {
            "text/plain": [
              "array([2, 1, 2, ..., 2, 2, 2])"
            ]
          },
          "metadata": {},
          "execution_count": 24
        }
      ]
    },
    {
      "cell_type": "code",
      "source": [
        "def evaluate_model(model,X_val,y_val):\n",
        "  # Make predictions on validation set\n",
        "  y_pred = model.predict(X_val)\n",
        "  y_pred = (y_pred == y_pred.max(axis=1)[:,None]).astype(int)\n",
        "\n",
        "  y_predictions = np.zeros(shape=(y_pred.shape[0], 1))\n",
        "\n",
        "  for i in range(y_pred.shape[0]):\n",
        "    y_predictions[i] = np.asarray(np.where(y_pred[i] == 1))\n",
        "\n",
        "  # Calculate F1 score , precision and recall for each class\n",
        "  accuracy = accuracy_score(y_val, y_predictions)\n",
        "  f1_scores = f1_score(y_val, y_predictions, average=None)\n",
        "  precision = precision_score(y_val, y_predictions, average='weighted')\n",
        "  recall = recall_score(y_val, y_predictions, average='weighted')\n",
        "\n",
        "  # Calculate mean and standard deviation of F1 scores\n",
        "  mean_f1 = np.mean(f1_scores)\n",
        "  std_f1 = np.std(f1_scores)\n",
        "\n",
        "  # Print results\n",
        "  print(f\"Accuracy: {accuracy:.4f}\")\n",
        "  print(f\"Precision: {precision:.4f}\")\n",
        "  print(f\"Recall: {recall:.4f}\")\n",
        "  print(f\"Mean F1 score: {mean_f1:.4f}\")\n",
        "  print(f\"Standard deviation of F1 score: {std_f1:.4f}\")\n"
      ],
      "metadata": {
        "id": "hRiK5kv-99BQ"
      },
      "execution_count": null,
      "outputs": []
    },
    {
      "cell_type": "markdown",
      "source": [
        "## Model 1"
      ],
      "metadata": {
        "id": "F9xrs92L9-aB"
      }
    },
    {
      "cell_type": "code",
      "source": [
        "evaluate_model(model1,X_val, y_val)"
      ],
      "metadata": {
        "colab": {
          "base_uri": "https://localhost:8080/"
        },
        "id": "vwx4mnWMJ9nS",
        "outputId": "9dd89002-ebef-4c31-a544-f551b9d015ff"
      },
      "execution_count": null,
      "outputs": [
        {
          "output_type": "stream",
          "name": "stdout",
          "text": [
            "731/731 [==============================] - 1s 2ms/step\n",
            "Accuracy: 0.7845\n",
            "Precision: 0.7855\n",
            "Recall: 0.7845\n",
            "Mean F1 score: 0.6031\n",
            "Standard deviation of F1 score: 0.2715\n"
          ]
        }
      ]
    },
    {
      "cell_type": "markdown",
      "source": [
        "## Model CNN"
      ],
      "metadata": {
        "id": "X65jSODPK1I8"
      }
    },
    {
      "cell_type": "code",
      "source": [
        "evaluate_model(model_cnn,X_val, y_val)"
      ],
      "metadata": {
        "colab": {
          "base_uri": "https://localhost:8080/"
        },
        "id": "Zi_RRxUBKVBz",
        "outputId": "62bed2b8-c9ac-4371-cf0f-f42192131ffa"
      },
      "execution_count": null,
      "outputs": [
        {
          "output_type": "stream",
          "name": "stdout",
          "text": [
            "731/731 [==============================] - 2s 3ms/step\n",
            "Accuracy: 0.8595\n",
            "Precision: 0.8560\n",
            "Recall: 0.8595\n",
            "Mean F1 score: 0.7078\n",
            "Standard deviation of F1 score: 0.2379\n"
          ]
        }
      ]
    },
    {
      "cell_type": "markdown",
      "source": [
        "## Same Model CNN with normalized data"
      ],
      "metadata": {
        "id": "CvPtuHjZXme-"
      }
    },
    {
      "cell_type": "code",
      "source": [
        "X_val_normalized = normalize_data(X_val)\n",
        "evaluate_model(model_cnn_normalized,X_val_normalized, y_val)"
      ],
      "metadata": {
        "colab": {
          "base_uri": "https://localhost:8080/"
        },
        "id": "Q-oZtV2WXl2h",
        "outputId": "882ec785-f164-41d2-a9ae-07a1e7ac1fd8"
      },
      "execution_count": null,
      "outputs": [
        {
          "output_type": "stream",
          "name": "stdout",
          "text": [
            "731/731 [==============================] - 2s 3ms/step\n",
            "Accuracy: 0.8503\n",
            "Precision: 0.8497\n",
            "Recall: 0.8503\n",
            "Mean F1 score: 0.7121\n",
            "Standard deviation of F1 score: 0.2195\n"
          ]
        }
      ]
    },
    {
      "cell_type": "markdown",
      "source": [
        "## Optimized CNN"
      ],
      "metadata": {
        "id": "MKg0NsIdcHRI"
      }
    },
    {
      "cell_type": "code",
      "source": [
        "evaluate_model(model_cnn_optimized,X_val, y_val)"
      ],
      "metadata": {
        "colab": {
          "base_uri": "https://localhost:8080/"
        },
        "id": "w91_xX4DcQ8Q",
        "outputId": "db394605-f0d2-4d83-94ff-d0104f923a55"
      },
      "execution_count": null,
      "outputs": [
        {
          "output_type": "stream",
          "name": "stdout",
          "text": [
            "731/731 [==============================] - 2s 2ms/step\n",
            "Accuracy: 0.8354\n",
            "Precision: 0.8057\n",
            "Recall: 0.8354\n",
            "Mean F1 score: 0.5660\n",
            "Standard deviation of F1 score: 0.4004\n"
          ]
        },
        {
          "output_type": "stream",
          "name": "stderr",
          "text": [
            "/usr/local/lib/python3.10/dist-packages/sklearn/metrics/_classification.py:1344: UndefinedMetricWarning: Precision is ill-defined and being set to 0.0 in labels with no predicted samples. Use `zero_division` parameter to control this behavior.\n",
            "  _warn_prf(average, modifier, msg_start, len(result))\n"
          ]
        }
      ]
    },
    {
      "cell_type": "markdown",
      "source": [
        "## Deeper CNN Model"
      ],
      "metadata": {
        "id": "k0z4rFMxvyWv"
      }
    },
    {
      "cell_type": "code",
      "source": [
        "evaluate_model(model_cnn_deeper,X_val,y_val)"
      ],
      "metadata": {
        "colab": {
          "base_uri": "https://localhost:8080/"
        },
        "id": "qP0SnoUdK4_w",
        "outputId": "978fc6fd-0bc8-4956-92fd-2c8101d3d3a7"
      },
      "execution_count": null,
      "outputs": [
        {
          "output_type": "stream",
          "name": "stdout",
          "text": [
            "731/731 [==============================] - 3s 4ms/step\n",
            "Accuracy: 0.8847\n",
            "Precision: 0.8832\n",
            "Recall: 0.8847\n",
            "Mean F1 score: 0.7675\n",
            "Standard deviation of F1 score: 0.1794\n"
          ]
        }
      ]
    },
    {
      "cell_type": "markdown",
      "metadata": {
        "id": "efRjrcRK15bJ"
      },
      "source": [
        "# Calculate the predictions on the X_test, save and submit the results"
      ]
    },
    {
      "cell_type": "markdown",
      "metadata": {
        "id": "XdP_tejR3w_f"
      },
      "source": [
        "When you are satisfied with your results:\n",
        "\n",
        "*   Calculate y_pred, which is the prediction for the X_test\n",
        "*   Save it on a .npy file\n",
        "*   Submit your results on the Classroom\n",
        "\n",
        "I will sent you the F1 score on this file."
      ]
    },
    {
      "cell_type": "code",
      "source": [
        "y_pred = model.predict(X_test)\n",
        "y_pred = (y_pred == y_pred.max(axis=1)[:,None]).astype(int)\n",
        "assert y_pred.shape == (46943,3)"
      ],
      "metadata": {
        "id": "AQtYjflqnr2A",
        "colab": {
          "base_uri": "https://localhost:8080/"
        },
        "outputId": "82901e13-2204-4697-c0f1-6ae0bed55a6c"
      },
      "execution_count": null,
      "outputs": [
        {
          "output_type": "stream",
          "name": "stdout",
          "text": [
            "1467/1467 [==============================] - 4s 2ms/step\n"
          ]
        }
      ]
    },
    {
      "cell_type": "code",
      "source": [],
      "metadata": {
        "id": "F5L_gfSPxVlv"
      },
      "execution_count": null,
      "outputs": []
    },
    {
      "cell_type": "code",
      "execution_count": null,
      "metadata": {
        "id": "LwvpST31BcaZ"
      },
      "outputs": [],
      "source": [
        "#FILE FOR SUBMISSION\n",
        "np.save(data_path + '/Carlos_Fajardo_prediction',y_pred)"
      ]
    },
    {
      "cell_type": "markdown",
      "source": [
        "**Do not edit the code below, it is for testing results**"
      ],
      "metadata": {
        "id": "3NKzA7f_v72E"
      }
    },
    {
      "cell_type": "code",
      "source": [
        "# dataset_test = h5py.File(data_path + '/test_with_labels_200.h5', 'r')\n",
        "# y_test = dataset_test.get('labels')\n",
        "# y_test = np.array(y_test)\n",
        "# assert y_test.shape == (46943, 1)\n",
        "\n",
        "# from sklearn.metrics import accuracy_score\n",
        "# y_predictions = np.zeros(shape=(y_pred.shape[0], 1))\n",
        "\n",
        "# for i in range(y_pred.shape[0]):\n",
        "#   y_predictions[i] = np.asarray(np.where(y_pred[i] == 1))\n",
        "\n",
        "# test_accuracy = accuracy_score(y_test, y_predictions)\n",
        "# print(test_accuracy)"
      ],
      "metadata": {
        "id": "nOsRfV2vwGy8"
      },
      "execution_count": null,
      "outputs": []
    }
  ],
  "metadata": {
    "accelerator": "GPU",
    "colab": {
      "provenance": [],
      "collapsed_sections": [
        "bor-DqaXXjXc",
        "8yRxx_0hOJfX",
        "Vk_U5_EvaBmR",
        "efRjrcRK15bJ"
      ],
      "gpuType": "T4"
    },
    "kernelspec": {
      "display_name": "Python 3",
      "name": "python3"
    },
    "language_info": {
      "name": "python"
    }
  },
  "nbformat": 4,
  "nbformat_minor": 0
}
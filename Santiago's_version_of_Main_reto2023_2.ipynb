{
  "cells": [
    {
      "cell_type": "markdown",
      "metadata": {
        "id": "45TOQQLkrdCC"
      },
      "source": [
        "#Introduction to Deep Learning 2023-2\n",
        "## Cardiac Arrhythmia challenge"
      ]
    },
    {
      "cell_type": "markdown",
      "metadata": {
        "id": "VF2FO8Wyr2S-"
      },
      "source": [
        "Steps to run notebook:\n",
        "1. Create a copy of this folder in your drive\n",
        "2. Run the first code block\n",
        "3. Change 'data_path' to the location of the folder (open folder icon on the left, navigate to this folder, click the 3 dots on the right of the folder to copy path to the folder)\n",
        "\n",
        "\n",
        "\n",
        "\n",
        "\n"
      ]
    },
    {
      "cell_type": "code",
      "execution_count": 1,
      "metadata": {
        "colab": {
          "base_uri": "https://localhost:8080/"
        },
        "id": "HE6psPfvrQSc",
        "outputId": "d79d930f-378e-42a1-97e7-407ed5eece41"
      },
      "outputs": [
        {
          "output_type": "stream",
          "name": "stdout",
          "text": [
            "Mounted at /content/gdrive\n"
          ]
        }
      ],
      "source": [
        "from google.colab import drive\n",
        "drive.mount('/content/gdrive')\n"
      ]
    },
    {
      "cell_type": "code",
      "source": [
        "# PATH TO THIS FOLDER IN DRIVE\n",
        "data_path = \"/content/gdrive/MyDrive/DeepLearning/Electrocardiograma_2023_2\""
      ],
      "metadata": {
        "id": "o9OYhyqEAKCG"
      },
      "execution_count": 2,
      "outputs": []
    },
    {
      "cell_type": "code",
      "execution_count": 3,
      "metadata": {
        "id": "yEdJvrGibniD"
      },
      "outputs": [],
      "source": [
        "#data libraries\n",
        "import numpy as np\n",
        "import matplotlib.pyplot as plt\n",
        "import h5py\n",
        "\n",
        "#model libraries\n",
        "import tensorflow as tf\n",
        "from tensorflow import keras\n",
        "from tensorflow.keras import layers\n",
        "from keras import utils                                   # tools for creating one-hot encoding\n",
        "from keras.models import Sequential                        # Type of model we wish to use"
      ]
    },
    {
      "cell_type": "markdown",
      "metadata": {
        "id": "pPxR8s2axr7C"
      },
      "source": [
        "# Extracting the Training Data\n",
        "The training data is saved in the file 'training_set_500.h5', which is in [h5\n",
        "format](https://fileinfo.com/extension/h5).  This format allows to save Hierarchical Data.  In this file we have saved the 'data' and the 'labels'\n",
        "\n",
        "We extract the 'data' and the 'labels' to the variables X_train and y_train respectively and then convert these variable into numpy arrays.\n",
        "\n",
        "**The dataset has 3 labels :**\n",
        "\n",
        "*   0: Normal\n",
        "*   1: Arrhythmia\n",
        "*   2: Noise\n",
        "\n",
        "\n"
      ]
    },
    {
      "cell_type": "code",
      "execution_count": 4,
      "metadata": {
        "id": "5zlkR4nqrrBM"
      },
      "outputs": [],
      "source": [
        "# Traing Data - ECG signals from 500 patients\n",
        "dataset = h5py.File(data_path + '/training_set_500.h5', 'r')\n",
        "\n",
        "X_train = dataset.get('data')\n",
        "X_train = np.array(X_train)\n",
        "y_train = dataset.get('labels')\n",
        "y_train = np.array(y_train)\n",
        "dataset.close()\n",
        "\n",
        "# Healthy assertion\n",
        "assert X_train.shape == (116953, 2049, 1)  # The training data has 116953 1D ECG signals each one with 2049 samples\n",
        "assert y_train.shape == (116953, 1) # 116953 labels (0: Normal, 1: Cardiac Arrhytmia, 2: Noise signal)"
      ]
    },
    {
      "cell_type": "markdown",
      "source": [
        "## Converting the y_train to one-hot encoding"
      ],
      "metadata": {
        "id": "MnjW2lIwtXx2"
      }
    },
    {
      "cell_type": "code",
      "source": [
        "nclases = 3\n",
        "y_train = utils.to_categorical(y_train,nclases)\n",
        "\n",
        "print(\"y_train= \", y_train[0])\n",
        "# Healthy assertion\n",
        "assert y_train.shape == (116953, 3) # 116953 labels ([1. 0. 0.]: Normal, [0. 1. 0.]: Cardiac Arrhytmia, [0. 0. 1.]: Noise signal)"
      ],
      "metadata": {
        "colab": {
          "base_uri": "https://localhost:8080/"
        },
        "id": "lzBrrujXixAA",
        "outputId": "29e80b1c-8989-4721-d060-14ce1563e175"
      },
      "execution_count": 5,
      "outputs": [
        {
          "output_type": "stream",
          "name": "stdout",
          "text": [
            "y_train=  [1. 0. 0.]\n"
          ]
        }
      ]
    },
    {
      "cell_type": "markdown",
      "metadata": {
        "id": "bor-DqaXXjXc"
      },
      "source": [
        "# Extracting the Test Data\n",
        "The test data is saved in the file '/test_without_labels_200.h5', which is also in [h5\n",
        "format](https://fileinfo.com/extension/h5).  \n",
        "We extract the 'data' to the variable X_test. **Please note that the test labels  are hidden for challenge purposes.**"
      ]
    },
    {
      "cell_type": "code",
      "execution_count": null,
      "metadata": {
        "id": "APwe3L2dwRGh"
      },
      "outputs": [],
      "source": [
        "# Testing Data - ECG signals from 200 patients\n",
        "dataset = h5py.File(data_path + '/test_without_labels_200.h5', 'r')\n",
        "\n",
        "X_test = dataset.get('data')\n",
        "X_test = np.array(X_test)\n",
        "dataset.close()\n",
        "\n",
        "# Healthy assertion\n",
        "assert X_test.shape == (46943, 2049, 1) # 46943 1D ECG signal each one with 2049 samples"
      ]
    },
    {
      "cell_type": "markdown",
      "source": [
        "## Sketching some ECG Signal"
      ],
      "metadata": {
        "id": "xee4MD30ahXv"
      }
    },
    {
      "cell_type": "code",
      "execution_count": 6,
      "metadata": {
        "id": "uWqYVjRbycGG",
        "colab": {
          "base_uri": "https://localhost:8080/",
          "height": 472
        },
        "outputId": "896f3ebc-eec2-4ba5-d153-7ce8bcf74b32"
      },
      "outputs": [
        {
          "output_type": "display_data",
          "data": {
            "text/plain": [
              "<Figure size 640x480 with 1 Axes>"
            ],
            "image/png": "[encoded data removed]"
          },
          "metadata": {}
        }
      ],
      "source": [
        "\n",
        "index = 763\n",
        "\n",
        "x=np.arange(0,2048,200)\n",
        "xi = x/250 # sample rate of recording: 250Hz\n",
        "plt.xticks(x,xi)\n",
        "plt.plot(X_train[index])\n",
        "plt.title('Label of signal: %i'  % np.argmax(y_train[index]))\n",
        "plt.xlabel('seconds')\n",
        "plt.ylabel('ECG signal')\n",
        "\n",
        "plt.show()"
      ]
    },
    {
      "cell_type": "markdown",
      "metadata": {
        "id": "FHTCOQflx0Wp"
      },
      "source": [
        "#Model"
      ]
    },
    {
      "cell_type": "code",
      "execution_count": 7,
      "metadata": {
        "id": "oGOl-2tJrQTD"
      },
      "outputs": [],
      "source": [
        "# MODEL copy + paste from Keras.io\n",
        "\n",
        "def build_cnn(input_shape):\n",
        "  \"\"\"Construir una red neuronal convolucional 1D para clasificar señales cardiacas.\"\"\"\n",
        "\n",
        "  model = tf.keras.Sequential([\n",
        "      tf.keras.layers.Input(input_shape),\n",
        "      tf.keras.layers.Conv1D(32, kernel_size=3, activation='relu'),\n",
        "      tf.keras.layers.MaxPool1D(pool_size=2),\n",
        "      tf.keras.layers.Conv1D(64, kernel_size=3, activation='relu'),\n",
        "      tf.keras.layers.MaxPool1D(pool_size=2),\n",
        "      tf.keras.layers.Flatten(),\n",
        "      tf.keras.layers.Dense(128, activation='relu'),\n",
        "      tf.keras.layers.Dense(3, activation='softmax')\n",
        "  ])\n",
        "\n",
        "  return model\n",
        "\n",
        "\n",
        "model = build_cnn((2049, 1))"
      ]
    },
    {
      "cell_type": "code",
      "execution_count": 8,
      "metadata": {
        "id": "BoT1oQJ6rQTE"
      },
      "outputs": [],
      "source": [
        "# COMPILE\n",
        "model.compile(loss = 'categorical_crossentropy', optimizer = 'adam', metrics = ['accuracy'])"
      ]
    },
    {
      "cell_type": "code",
      "execution_count": 9,
      "metadata": {
        "id": "OokhpZl9rQTF",
        "colab": {
          "base_uri": "https://localhost:8080/"
        },
        "outputId": "804dd7e9-a8c0-457a-b079-8092d6ed461e"
      },
      "outputs": [
        {
          "output_type": "stream",
          "name": "stdout",
          "text": [
            "Epoch 1/10\n",
            "2924/2924 [==============================] - 33s 8ms/step - loss: 0.4145 - accuracy: 0.8410 - val_loss: 0.4181 - val_accuracy: 0.8516\n",
            "Epoch 2/10\n",
            "2924/2924 [==============================] - 22s 8ms/step - loss: 0.3086 - accuracy: 0.8785 - val_loss: 0.4509 - val_accuracy: 0.8474\n",
            "Epoch 3/10\n",
            "2924/2924 [==============================] - 22s 8ms/step - loss: 0.2377 - accuracy: 0.9065 - val_loss: 0.5021 - val_accuracy: 0.8510\n",
            "Epoch 4/10\n",
            "2924/2924 [==============================] - 23s 8ms/step - loss: 0.1671 - accuracy: 0.9358 - val_loss: 0.6075 - val_accuracy: 0.8466\n",
            "Epoch 5/10\n",
            "2924/2924 [==============================] - 23s 8ms/step - loss: 0.1048 - accuracy: 0.9610 - val_loss: 0.8122 - val_accuracy: 0.8412\n",
            "Epoch 6/10\n",
            "2924/2924 [==============================] - 23s 8ms/step - loss: 0.0625 - accuracy: 0.9773 - val_loss: 0.9984 - val_accuracy: 0.8378\n",
            "Epoch 7/10\n",
            "2924/2924 [==============================] - 22s 8ms/step - loss: 0.0407 - accuracy: 0.9859 - val_loss: 1.1947 - val_accuracy: 0.8349\n",
            "Epoch 8/10\n",
            "2924/2924 [==============================] - 22s 8ms/step - loss: 0.0304 - accuracy: 0.9895 - val_loss: 1.4678 - val_accuracy: 0.8393\n",
            "Epoch 9/10\n",
            "2924/2924 [==============================] - 23s 8ms/step - loss: 0.0238 - accuracy: 0.9919 - val_loss: 1.6380 - val_accuracy: 0.8354\n",
            "Epoch 10/10\n",
            "2924/2924 [==============================] - 22s 8ms/step - loss: 0.0208 - accuracy: 0.9932 - val_loss: 1.7505 - val_accuracy: 0.8376\n"
          ]
        },
        {
          "output_type": "execute_result",
          "data": {
            "text/plain": [
              "<keras.src.callbacks.History at 0x7e5eb2fd5c90>"
            ]
          },
          "metadata": {},
          "execution_count": 9
        }
      ],
      "source": [
        "# FIT\n",
        "model.fit(X_train, y_train, epochs=10, validation_split=0.2, batch_size=32, verbose = 1)"
      ]
    },
    {
      "cell_type": "markdown",
      "metadata": {
        "id": "efRjrcRK15bJ"
      },
      "source": [
        "# Calculate the predictions on the X_test, save and submit the results"
      ]
    },
    {
      "cell_type": "markdown",
      "metadata": {
        "id": "XdP_tejR3w_f"
      },
      "source": [
        "When you are satisfied with your results:\n",
        "\n",
        "*   Calculate y_pred, which is the prediction for the X_test\n",
        "*   Save it on a .npy file\n",
        "*   Submit your results on the Classroom\n",
        "\n",
        "I will sent you the F1 score on this file."
      ]
    },
    {
      "cell_type": "code",
      "source": [
        "y_pred = model.predict(X_test)\n",
        "y_pred = (y_pred == y_pred.max(axis=1)[:,None]).astype(int)\n",
        "assert y_pred.shape == (46943,3)"
      ],
      "metadata": {
        "id": "AQtYjflqnr2A"
      },
      "execution_count": null,
      "outputs": []
    },
    {
      "cell_type": "code",
      "execution_count": null,
      "metadata": {
        "id": "LwvpST31BcaZ"
      },
      "outputs": [],
      "source": [
        "#FILE FOR SUBMISSION\n",
        "np.save(data_path + '/Carlos_Fajardo_prediction',y_pred)"
      ]
    },
    {
      "cell_type": "markdown",
      "source": [
        "**Do not edit the code below, it is for testing results**"
      ],
      "metadata": {
        "id": "3NKzA7f_v72E"
      }
    },
    {
      "cell_type": "code",
      "source": [
        "# dataset_test = h5py.File(data_path + '/test_with_labels_200.h5', 'r')\n",
        "# y_test = dataset_test.get('labels')\n",
        "# y_test = np.array(y_test)\n",
        "# assert y_test.shape == (46943, 1)\n",
        "\n",
        "# from sklearn.metrics import accuracy_score\n",
        "# y_predictions = np.zeros(shape=(y_pred.shape[0], 1))\n",
        "\n",
        "# for i in range(y_pred.shape[0]):\n",
        "#   y_predictions[i] = np.asarray(np.where(y_pred[i] == 1))\n",
        "\n",
        "# test_accuracy = accuracy_score(y_test, y_predictions)\n",
        "# print(test_accuracy)"
      ],
      "metadata": {
        "id": "nOsRfV2vwGy8"
      },
      "execution_count": null,
      "outputs": []
    }
  ],
  "metadata": {
    "accelerator": "GPU",
    "colab": {
      "provenance": [],
      "collapsed_sections": [
        "FHTCOQflx0Wp"
      ]
    },
    "gpuClass": "standard",
    "kernelspec": {
      "display_name": "Python 3",
      "name": "python3"
    },
    "language_info": {
      "name": "python"
    }
  },
  "nbformat": 4,
  "nbformat_minor": 0
}